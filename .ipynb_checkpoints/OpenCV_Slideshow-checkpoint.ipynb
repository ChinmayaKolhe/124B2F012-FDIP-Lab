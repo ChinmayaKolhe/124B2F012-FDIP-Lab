{
 "cells": [
  {
   "cell_type": "markdown",
   "id": "467adf61",
   "metadata": {},
   "source": [
    "# 🖼️ Image Slideshow with Smooth Transitions using OpenCV\n",
    "This notebook reads images from a folder and creates a smooth slideshow using `cv2.addWeighted`."
   ]
  },
  {
   "cell_type": "code",
   "execution_count": null,
   "id": "f94dbc88",
   "metadata": {},
   "outputs": [],
   "source": [
    "import cv2\n",
    "import os\n",
    "import time"
   ]
  },
  {
   "cell_type": "markdown",
   "id": "3904f0ab",
   "metadata": {},
   "source": [
    "## 🔧 Configuration and Load Images"
   ]
  },
  {
   "cell_type": "code",
   "execution_count": null,
   "id": "422f7364",
   "metadata": {},
   "outputs": [],
   "source": [
    "\n",
    "# Folder containing images\n",
    "folder_path = \"slideshow_images\"  # change this to your folder\n",
    "\n",
    "# Duration settings\n",
    "display_time = 2  # seconds\n",
    "transition_frames = 30  # frames used for fade transition\n",
    "\n",
    "# Load and sort image file names\n",
    "image_files = [f for f in os.listdir(folder_path) if f.endswith((\".jpg\", \".png\"))]\n",
    "image_files.sort()\n",
    "\n",
    "# Check minimum image requirement\n",
    "if len(image_files) < 2:\n",
    "    raise ValueError(\"Need at least 2 images for slideshow.\")\n",
    "\n",
    "# Load first image to get size\n",
    "first_image = cv2.imread(os.path.join(folder_path, image_files[0]))\n",
    "height, width = first_image.shape[:2]\n",
    "\n",
    "# Load and resize all images\n",
    "images = []\n",
    "for file in image_files:\n",
    "    img = cv2.imread(os.path.join(folder_path, file))\n",
    "    img = cv2.resize(img, (width, height))\n",
    "    images.append(img)\n",
    "\n",
    "print(f\"Loaded {len(images)} images.\")\n"
   ]
  },
  {
   "cell_type": "markdown",
   "id": "90364212",
   "metadata": {},
   "source": [
    "## ▶️ Run the Slideshow with Fade Transitions"
   ]
  },
  {
   "cell_type": "code",
   "execution_count": null,
   "id": "85338af2",
   "metadata": {},
   "outputs": [],
   "source": [
    "\n",
    "for i in range(len(images)):\n",
    "    current = images[i]\n",
    "    next_img = images[(i + 1) % len(images)]  # loop to first\n",
    "\n",
    "    # Display current image\n",
    "    cv2.imshow(\"Slideshow\", current)\n",
    "    if cv2.waitKey(display_time * 1000) == 27:  # ESC to exit\n",
    "        break\n",
    "\n",
    "    # Fade transition\n",
    "    for alpha in range(transition_frames + 1):\n",
    "        a = alpha / transition_frames\n",
    "        blended = cv2.addWeighted(current, 1 - a, next_img, a, 0)\n",
    "        cv2.imshow(\"Slideshow\", blended)\n",
    "        if cv2.waitKey(40) == 27:\n",
    "            break\n",
    "\n",
    "cv2.destroyAllWindows()\n"
   ]
  }
 ],
 "metadata": {},
 "nbformat": 4,
 "nbformat_minor": 5
}
